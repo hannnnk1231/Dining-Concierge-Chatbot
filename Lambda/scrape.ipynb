{
 "cells": [
  {
   "cell_type": "code",
   "execution_count": 2,
   "metadata": {},
   "outputs": [],
   "source": [
    "import requests\n",
    "import json\n",
    "import datetime\n",
    "import boto3\n",
    "from decimal import Decimal\n",
    "from requests_aws4auth import AWS4Auth"
   ]
  },
  {
   "cell_type": "code",
   "execution_count": 2,
   "metadata": {},
   "outputs": [],
   "source": [
    "MY_API_KEY = \"\"\n",
    "headers = {'Authorization': 'Bearer %s' % MY_API_KEY}\n",
    "URL = \"https://api.yelp.com/v3/businesses/search\"\n",
    "LIMIT = 30\n",
    "HOST = \"https://search-dinningconcierge-7jazrt3icqbzgkc35r4n5tdvfm.us-east-1.es.amazonaws.com\"\n",
    "region = 'us-east-1'\n",
    "service = 'es'\n",
    "HOST = \"https://search-dinningconcierge-7jazrt3icqbzgkc35r4n5tdvfm.us-east-1.es.amazonaws.com/\"\n",
    "credentials = boto3.Session().get_credentials()\n",
    "awsauth = AWS4Auth(credentials.access_key, credentials.secret_key, region, service, session_token=credentials.token)"
   ]
  },
  {
   "cell_type": "code",
   "execution_count": 3,
   "metadata": {},
   "outputs": [],
   "source": [
    "def get_total(cuisine, location):\n",
    "    params = {\n",
    "        'term': cuisine+' restaurants', \n",
    "        'location': location,\n",
    "    }\n",
    "    req = requests.get(URL, params = params, headers=headers)\n",
    "    if req.status_code==200:\n",
    "        return json.loads(req.text)['total']\n",
    "    return 0"
   ]
  },
  {
   "cell_type": "code",
   "execution_count": 4,
   "metadata": {},
   "outputs": [],
   "source": [
    "def search(cuisine, location, offset):\n",
    "    params = {\n",
    "        'term': cuisine+' restaurants', \n",
    "        'location': location, \n",
    "        'limit': LIMIT, \n",
    "        'offset': offset\n",
    "    }\n",
    "    return requests.get(URL, params = params, headers=headers)"
   ]
  },
  {
   "cell_type": "code",
   "execution_count": 5,
   "metadata": {},
   "outputs": [],
   "source": [
    "def formatting(business, cuisine):\n",
    "    return json.loads(json.dumps({\n",
    "        \"id\": business['id'],\n",
    "        \"name\": business['name'],\n",
    "        \"address\": \", \".join(business['location']['display_address']),\n",
    "        \"coordinates\": business['coordinates'],\n",
    "        \"review_cnt\": business['review_count'],\n",
    "        \"rating\": business['rating'],\n",
    "        \"zip_code\": business['location']['zip_code'],\n",
    "        \"cuisine\": cuisine,\n",
    "    }), parse_float=Decimal)"
   ]
  },
  {
   "cell_type": "code",
   "execution_count": 6,
   "metadata": {},
   "outputs": [],
   "source": [
    "def upload_yelp(businesses):\n",
    "    dynamodb = boto3.resource('dynamodb', region_name='us-east-1')\n",
    "    table = dynamodb.Table('yelp-restaurants')\n",
    "    for business in businesses:\n",
    "        business[\"insertedAtTimestamp\"] = datetime.datetime.now().strftime(\"%m/%d/%Y %H:%M:%S\")\n",
    "        table.put_item(Item = business)"
   ]
  },
  {
   "cell_type": "code",
   "execution_count": null,
   "metadata": {},
   "outputs": [],
   "source": [
    "def upload_openSearch(businesses):\n",
    "    for business in businesses:\n",
    "        body = {\n",
    "        \"id\": business['id'],\n",
    "        \"cuisine\": business['cuisine']\n",
    "        }\n",
    "        query = HOST + '/{_index}/{_type}/{_id}'.format(_index=\"restaurants\", _type=\"Restaurant\", _id=business['id'])\n",
    "        req = requests.put(query, auth=awsauth, data=json.dumps(body), headers = {'Content-type': 'application/json'})"
   ]
  },
  {
   "cell_type": "code",
   "execution_count": 11,
   "metadata": {},
   "outputs": [
    {
     "name": "stdout",
     "output_type": "stream",
     "text": [
      "Korean Manhattan 240\n",
      "Korean Queens 240\n",
      "Korean Brooklyn 240\n",
      "Korean Bronx 240\n",
      "Korean Staten Island 240\n"
     ]
    }
   ],
   "source": [
    "cuisine_types = ['American', \"Chinese\", \"Indian\", \"Italian\", \"Korean\"]\n",
    "locations = ['Manhattan', 'Queens', 'Brooklyn', 'Bronx', 'Staten Island']\n",
    "for cuisine in cuisine_types:\n",
    "    res = []\n",
    "    for location in locations:\n",
    "        total = get_total(cuisine, location)\n",
    "        print(cuisine, location, total)\n",
    "        offset = 0\n",
    "        while(offset<=total-LIMIT):\n",
    "            req = search(cuisine, location, offset)\n",
    "            businesses = json.loads(req.text)['businesses']\n",
    "            for business in businesses:\n",
    "                bus = formatting(business, cuisine)\n",
    "                if bus not in res:\n",
    "                    res.append(bus)\n",
    "            offset += LIMIT\n",
    "    upload_yelp(res)\n",
    "    upload_openSearch(res)"
   ]
  }
 ],
 "metadata": {
  "kernelspec": {
   "display_name": "Python 3",
   "language": "python",
   "name": "python3"
  },
  "language_info": {
   "codemirror_mode": {
    "name": "ipython",
    "version": 3
   },
   "file_extension": ".py",
   "mimetype": "text/x-python",
   "name": "python",
   "nbconvert_exporter": "python",
   "pygments_lexer": "ipython3",
   "version": "3.7.3"
  }
 },
 "nbformat": 4,
 "nbformat_minor": 2
}
